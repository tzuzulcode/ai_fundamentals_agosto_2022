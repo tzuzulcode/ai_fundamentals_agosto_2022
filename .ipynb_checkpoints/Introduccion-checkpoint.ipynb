{
 "cells": [
  {
   "cell_type": "markdown",
   "id": "e0377199",
   "metadata": {},
   "source": [
    "# Codigo\n",
    "- Response o respuesta: La variable que estamos tratando de predecir\n",
    "- Variable independiente: La variable utilizada para predecir la respuesta.\n",
    "- Registro: El vector de predictor y valores de resultado para un individuo o caso específico.\n",
    "- Interceptar: La intersección de la línea de regresión, es decir, el valor pronosticado cuando X=0.\n",
    "- Coeficiente de regresion: La pendiente de la línea de regresión."
   ]
  },
  {
   "cell_type": "code",
   "execution_count": null,
   "id": "793cef01",
   "metadata": {},
   "outputs": [],
   "source": []
  }
 ],
 "metadata": {
  "kernelspec": {
   "display_name": "Python 3 (ipykernel)",
   "language": "python",
   "name": "python3"
  },
  "language_info": {
   "codemirror_mode": {
    "name": "ipython",
    "version": 3
   },
   "file_extension": ".py",
   "mimetype": "text/x-python",
   "name": "python",
   "nbconvert_exporter": "python",
   "pygments_lexer": "ipython3",
   "version": "3.10.4"
  }
 },
 "nbformat": 4,
 "nbformat_minor": 5
}
