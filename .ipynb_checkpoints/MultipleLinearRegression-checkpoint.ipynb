{
 "cells": [
  {
   "cell_type": "markdown",
   "id": "4b36d1c0",
   "metadata": {},
   "source": [
    "Actividad: Investigar acerca de la regresión lineal multiple"
   ]
  },
  {
   "cell_type": "markdown",
   "id": "185da28d",
   "metadata": {},
   "source": [
    "### Conceptos:\n",
    "\n",
    "- Root mean squared error (RMSE): La raíz cuadrada del error cuadrático promedio de la regresión (esta es la métrica más utilizada para comparar modelos de regresión).\n",
    "\n",
    "- Residual standard error: Igual que la raíz del error cuadrático medio, pero ajustado por grados de libertad.\n",
    "\n",
    "- R-squared (Coeficiente de determinación): La proporción de varianza explicada por el modelo, de 0 a 1.\n",
    "\n",
    "- t-statistic: El coeficiente de un predictor, dividido por el error estándar del coeficiente, lo que proporciona una métrica para comparar la importancia de las variables en el modelo.\n",
    "\n",
    "- Weighted regression: Regresión con los registros teniendo diferentes pesos."
   ]
  },
  {
   "cell_type": "code",
   "execution_count": 1,
   "id": "9365f2b9",
   "metadata": {},
   "outputs": [],
   "source": [
    "import pandas as pd"
   ]
  },
  {
   "cell_type": "code",
   "execution_count": null,
   "id": "4fbb48a2",
   "metadata": {},
   "outputs": [],
   "source": [
    "data = pd.read_csv(\"./datasets/insurance.csv\")\n",
    "\n"
   ]
  }
 ],
 "metadata": {
  "kernelspec": {
   "display_name": "venv",
   "language": "python",
   "name": "venv"
  },
  "language_info": {
   "codemirror_mode": {
    "name": "ipython",
    "version": 3
   },
   "file_extension": ".py",
   "mimetype": "text/x-python",
   "name": "python",
   "nbconvert_exporter": "python",
   "pygments_lexer": "ipython3",
   "version": "3.10.4"
  }
 },
 "nbformat": 4,
 "nbformat_minor": 5
}
