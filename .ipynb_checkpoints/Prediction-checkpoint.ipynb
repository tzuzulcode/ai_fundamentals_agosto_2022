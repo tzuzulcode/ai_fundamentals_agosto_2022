{
 "cells": [
  {
   "cell_type": "markdown",
   "id": "e0c826fa",
   "metadata": {},
   "source": [
    "# Predicción con regresión\n",
    "\n",
    "\n",
    "- Intervalos de predicción:Un intervalo de incertidumbre alrededor de un valor predicho individual.\n",
    "- Extrapolación: Extensión de un modelo más allá del rango de los datos utilizados para ajustarlo."
   ]
  },
  {
   "cell_type": "markdown",
   "id": "6500d761",
   "metadata": {},
   "source": [
    "### Intervalos de confianza y predicción\n",
    "\n",
    "Funciona a través del bootstraping.Y va realizando el proceso de re-muestreo. Y al ir obteniendo nuevas muestras podemos ir encontrando el rango entre 2.5 y 97.5 de valores posibles para predicción de cierta característica."
   ]
  },
  {
   "cell_type": "code",
   "execution_count": null,
   "id": "0d3dd8d6",
   "metadata": {},
   "outputs": [],
   "source": []
  }
 ],
 "metadata": {
  "kernelspec": {
   "display_name": "venv",
   "language": "python",
   "name": "venv"
  },
  "language_info": {
   "codemirror_mode": {
    "name": "ipython",
    "version": 3
   },
   "file_extension": ".py",
   "mimetype": "text/x-python",
   "name": "python",
   "nbconvert_exporter": "python",
   "pygments_lexer": "ipython3",
   "version": "3.10.4"
  }
 },
 "nbformat": 4,
 "nbformat_minor": 5
}
